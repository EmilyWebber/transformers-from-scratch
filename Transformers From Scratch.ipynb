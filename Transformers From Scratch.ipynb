{
 "cells": [
  {
   "cell_type": "markdown",
   "metadata": {},
   "source": [
    "# Transformers From Scratch\n",
    "You've heard the name, you've seen the papers, you've probably even stepped through a few repos. But can you build a multi-head attention mechanism from scratch?\n",
    "\n",
    "In this lab you'll be asked to implement the novel multi-head attention function from scratch, and plug this into our provided framework to test that your function works.\n",
    "\n",
    "We'll also ask you to parralellize it to take advantage of all the cores in your machine. \n",
    "\n",
    "So hang in there, and let's get to it!"
   ]
  },
  {
   "cell_type": "markdown",
   "metadata": {},
   "source": [
    "---\n",
    "# Task 0 - Learn About This Script Pacakge\n",
    "First, let's examine the codebase here. You'll see a Transformer-based model architecture, so to speak, implemented here. The catch? There is no multi-head attention function. \n",
    "\n",
    "We'll step through the codebase with you here in the guide so you know the key points. At the end we'll run a quick functional test to make sure you can indeed run a basic training job.\n",
    "\n",
    "Task 0 should take ~ 10 minutes. Try to take your time reading through this so you know what the arguments are and how the script is constructed."
   ]
  },
  {
   "cell_type": "code",
   "execution_count": 6,
   "metadata": {},
   "outputs": [
    {
     "name": "stdout",
     "output_type": "stream",
     "text": [
      "Cloning into 'former'...\n",
      "remote: Enumerating objects: 39, done.\u001b[K\n",
      "remote: Counting objects: 100% (39/39), done.\u001b[K\n",
      "remote: Compressing objects: 100% (31/31), done.\u001b[K\n",
      "remote: Total 134 (delta 18), reused 25 (delta 8), pack-reused 95\u001b[K\n",
      "Receiving objects: 100% (134/134), 34.90 MiB | 72.49 MiB/s, done.\n",
      "Resolving deltas: 100% (54/54), done.\n"
     ]
    }
   ],
   "source": [
    "# this package is a fork of Peter Bloem's \"former\" repository, where he implements a Transformer from scratch in PyTorch.\n",
    "!git clone https://github.com/EmilyWebber/former.git"
   ]
  },
  {
   "cell_type": "markdown",
   "metadata": {},
   "source": [
    "First, this codebase supports two modes. One for text classification, the other for text generation. Both of those can be run by a single Python script, `python experiments/classify.py`. You'll see that we are just calling that Python script inside of the `model.py` script that SageMaker uses to execute the training job.\n",
    "\n",
    "Inside of `classify.py`, you'll see we're creating a model on line 60. `model = former.CTransformer`. Note that this model takes a few hyperparameters - `embedding_size`, `num_heads`, `depth`, `seq_length`, `num_classes`, and `max_pool`. "
   ]
  },
  {
   "cell_type": "markdown",
   "metadata": {},
   "source": [
    "![](images/model_create.png)"
   ]
  },
  {
   "cell_type": "markdown",
   "metadata": {},
   "source": [
    "Now let's check out that `CTransformer()` object. You'll see it's inherited from the `former` class. \n",
    "\n",
    "Inside `transformers.py`, there's an `__init__` for the `CTransformer()` object. Inside the init, we'll see a small for-loop defined that pulls in the hyperparameters we just passed in, and creates a `TransformerBlock`. Then, it's using the PyTorch `nn.Sequential` API to convert those blocks into a sequential neural network component."
   ]
  },
  {
   "cell_type": "markdown",
   "metadata": {},
   "source": [
    "![](images/TransformerBlock.png)"
   ]
  },
  {
   "cell_type": "markdown",
   "metadata": {},
   "source": [
    "Now, where is this `TransformerBlock` defined? It's actually in `modules.py`.  You'll see one `TransformerBlock` class, that inherits a `SelfAttentionWide` or `SelfAttentionNarrow` object on creation. We'll follow the rabbit-hole on the `SelfAttentionNarrow.`\n",
    "\n",
    "The `SelfAttentionWide` init defines a few objects: `self.tokeys`, `self.toqueries`, and `self.tovalues`."
   ]
  },
  {
   "cell_type": "markdown",
   "metadata": {},
   "source": [
    "![](images/tokeys.png)"
   ]
  },
  {
   "cell_type": "markdown",
   "metadata": {},
   "source": [
    "Then, we see a `forward` function that calls `self.tokeys`. Next, it computes a scaled dot-product self-attention function! That's what we need to implement. "
   ]
  },
  {
   "cell_type": "markdown",
   "metadata": {},
   "source": [
    "![](images/self-attention.png)"
   ]
  },
  {
   "cell_type": "markdown",
   "metadata": {},
   "source": [
    "Sound like fun? Now, run your base training job to make sure the pipes are working today. This should download the data onto the training host, but it won't actually train because we haven't implemented your solution yet."
   ]
  },
  {
   "cell_type": "code",
   "execution_count": 2,
   "metadata": {},
   "outputs": [],
   "source": [
    "# run the model file\n",
    "import sagemaker\n",
    "import os\n",
    "\n",
    "sagemaker_session = sagemaker.Session()\n",
    "bucket = sagemaker_session.default_bucket()\n",
    "\n",
    "prefix = 'transformers'\n",
    "\n",
    "role = sagemaker.get_execution_role()\n",
    "\n",
    "# create some arbitrary train file that we won't use\n",
    "!echo 1,2,3,4 > holder_file.csv \n",
    "s3_train_path = \"s3://{}/{}/train/{}\".format(bucket, prefix, 'holder_file.csv')\n",
    "os.system('aws s3 cp {} {}'.format( 'holder_file.csv', s3_train_path))\n",
    "\n",
    "from sagemaker.pytorch import PyTorch\n",
    "\n",
    "estimator = PyTorch(entry_point='model.py',\n",
    "                    role=role,\n",
    "                    framework_version='1.2.0',\n",
    "                    py_version = 'py3',\n",
    "                    source_dir = 'former',\n",
    "                    instance_count=1,\n",
    "                    instance_type = 'ml.p3.2xlarge')\n",
    "\n",
    "estimator.fit({'training': s3_train_path}, wait=False)"
   ]
  },
  {
   "cell_type": "markdown",
   "metadata": {},
   "source": [
    "---\n",
    "# Task 1 - Implement a Multi-head Attention Function\n",
    "Now, here's the fun part. Can you implement your own multi-head attention mechanism? Don't worry, we'll give you all the tips you need.\n",
    "\n",
    "Task 1 should take ~30 minutes."
   ]
  },
  {
   "cell_type": "code",
   "execution_count": 4,
   "metadata": {
    "collapsed": true,
    "jupyter": {
     "outputs_hidden": true
    }
   },
   "outputs": [
    {
     "name": "stdout",
     "output_type": "stream",
     "text": [
      "Requirement already satisfied: absl-py==0.7.1 in /opt/conda/lib/python3.7/site-packages (from -r former/requirements.txt (line 2)) (0.7.1)\n",
      "Requirement already satisfied: chardet==3.0.4 in /opt/conda/lib/python3.7/site-packages (from -r former/requirements.txt (line 3)) (3.0.4)\n",
      "Requirement already satisfied: future==0.17.1 in /opt/conda/lib/python3.7/site-packages (from -r former/requirements.txt (line 4)) (0.17.1)\n",
      "Requirement already satisfied: grpcio==1.23.0 in /opt/conda/lib/python3.7/site-packages (from -r former/requirements.txt (line 5)) (1.23.0)\n",
      "Requirement already satisfied: idna==2.8 in /opt/conda/lib/python3.7/site-packages (from -r former/requirements.txt (line 6)) (2.8)\n",
      "Requirement already satisfied: markdown==3.1.1 in /opt/conda/lib/python3.7/site-packages (from -r former/requirements.txt (line 7)) (3.1.1)\n",
      "Requirement already satisfied: numpy==1.17.0 in /opt/conda/lib/python3.7/site-packages (from -r former/requirements.txt (line 8)) (1.17.0)\n",
      "Requirement already satisfied: protobuf==3.9.1 in /opt/conda/lib/python3.7/site-packages (from -r former/requirements.txt (line 9)) (3.9.1)\n",
      "Requirement already satisfied: requests==2.22.0 in /opt/conda/lib/python3.7/site-packages (from -r former/requirements.txt (line 10)) (2.22.0)\n",
      "Requirement already satisfied: six==1.12.0 in /opt/conda/lib/python3.7/site-packages (from -r former/requirements.txt (line 11)) (1.12.0)\n",
      "Requirement already satisfied: tb-nightly==1.15.0a20190822 in /opt/conda/lib/python3.7/site-packages (from -r former/requirements.txt (line 12)) (1.15.0a20190822)\n",
      "Requirement already satisfied: torch==1.2.0 in /opt/conda/lib/python3.7/site-packages (from -r former/requirements.txt (line 13)) (1.2.0)\n",
      "Requirement already satisfied: torchtext==0.4.0 in /opt/conda/lib/python3.7/site-packages (from -r former/requirements.txt (line 14)) (0.4.0)\n",
      "Requirement already satisfied: tqdm==4.34.0 in /opt/conda/lib/python3.7/site-packages (from -r former/requirements.txt (line 15)) (4.34.0)\n",
      "Requirement already satisfied: urllib3==1.25.3 in /opt/conda/lib/python3.7/site-packages (from -r former/requirements.txt (line 16)) (1.25.3)\n",
      "Requirement already satisfied: werkzeug==0.15.5 in /opt/conda/lib/python3.7/site-packages (from -r former/requirements.txt (line 17)) (0.15.5)\n",
      "Requirement already satisfied: setuptools>=36 in /opt/conda/lib/python3.7/site-packages (from markdown==3.1.1->-r former/requirements.txt (line 7)) (45.2.0.post20200210)\n",
      "Requirement already satisfied: certifi>=2017.4.17 in /opt/conda/lib/python3.7/site-packages (from requests==2.22.0->-r former/requirements.txt (line 10)) (2019.11.28)\n",
      "Requirement already satisfied: wheel>=0.26; python_version >= \"3\" in /opt/conda/lib/python3.7/site-packages (from tb-nightly==1.15.0a20190822->-r former/requirements.txt (line 12)) (0.34.2)\n"
     ]
    }
   ],
   "source": [
    "!pip install -r former/requirements.txt"
   ]
  },
  {
   "cell_type": "code",
   "execution_count": 41,
   "metadata": {},
   "outputs": [
    {
     "name": "stdout",
     "output_type": "stream",
     "text": [
      "calling imbdb.splits\n",
      "loading train and test sets\n"
     ]
    }
   ],
   "source": [
    "from torch import nn\n",
    "import torch\n",
    "from torch import nn\n",
    "from torch.autograd import Variable\n",
    "import torch.nn.functional as F\n",
    "\n",
    "from torchtext import data, datasets, vocab\n",
    "\n",
    "import numpy as np\n",
    "\n",
    "from torch.utils.tensorboard import SummaryWriter\n",
    "\n",
    "# Used for converting between nats and bits\n",
    "LOG2E = math.log2(math.e)\n",
    "TEXT = data.Field(lower=True, include_lengths=True, batch_first=True)\n",
    "LABEL = data.Field(sequential=False)\n",
    "NUM_CLS = 2\n",
    "\n",
    "def d(tensor=None):\n",
    "    if tensor is None:\n",
    "        return 'cuda' if torch.cuda.is_available() else 'cpu'\n",
    "    return 'cuda' if tensor.is_cuda else 'cpu'\n",
    "\n",
    "\n",
    "\n",
    "def get_x():\n",
    "    \n",
    "    tdata, _ = datasets.IMDB.splits(TEXT, LABEL)\n",
    "\n",
    "    print ('calling imbdb.splits')\n",
    "\n",
    "    train, test = tdata.split(split_ratio=0.8)\n",
    "\n",
    "    print ('loading train and test sets')\n",
    "    TEXT.build_vocab(train, max_size=50_000 - 2) # - 2 to make space for <unk> and <pad>\n",
    "    LABEL.build_vocab(train)\n",
    "\n",
    "    train_iter, test_iter = data.BucketIterator.splits((train, test), batch_size=4, device=d())\n",
    "\n",
    "    return train_iter, test_iter\n",
    "\n",
    "# it will take a few minutes to run this cell, even on an m5.large\n",
    "# go ahead and run this cell. while you're waiting for it to complete, jump ahead to the next portion\n",
    "tbw = SummaryWriter(log_dir='./runs') # Tensorboard logging\n",
    "train_iter, _ = get_x()"
   ]
  },
  {
   "cell_type": "code",
   "execution_count": 5,
   "metadata": {},
   "outputs": [
    {
     "name": "stdout",
     "output_type": "stream",
     "text": [
      "let's do this!!\n"
     ]
    }
   ],
   "source": [
    "# this is where you define your first three layers, for the keys, queries, and values\n",
    "def get_inputs(emb = 512, heads=8):\n",
    "    \n",
    "    \n",
    "                \n",
    "    tokeys = nn.Linear(emb, emb * heads, bias=False)\n",
    "    toqueries = nn.Linear(emb, emb * heads, bias=False)\n",
    "    tovalues = nn.Linear(emb, emb * heads, bias=False)\n",
    "    \n",
    "    keys    = tokeys(x)\n",
    "    queries = toqueries(x)\n",
    "    values  = tovalues(x)\n",
    "    \n",
    "    return keys, queries, values\n",
    "\n",
    "def my_multihead_attention_mechanism(keys, queries, values):\n",
    "        # compute scaled dot-product self-attention\n",
    "\n",
    "        # - fold heads into the batch dimension\n",
    "        keys = keys.transpose(1, 2).contiguous().view(b * h, t, e)\n",
    "        queries = queries.transpose(1, 2).contiguous().view(b * h, t, e)\n",
    "        values = values.transpose(1, 2).contiguous().view(b * h, t, e)\n",
    "\n",
    "        queries = queries / (e ** (1/4))\n",
    "        keys    = keys / (e ** (1/4))\n",
    "        # - Instead of dividing the dot products by sqrt(e), we scale the keys and values.\n",
    "        #   This should be more memory efficient\n",
    "\n",
    "        # - get dot product of queries and keys, and scale\n",
    "        dot = torch.bmm(queries, keys.transpose(1, 2))\n",
    "\n",
    "        assert dot.size() == (b*h, t, t)\n",
    "\n",
    "        if self.mask: # mask out the upper half of the dot matrix, excluding the diagonal\n",
    "            mask_(dot, maskval=float('-inf'), mask_diagonal=False)\n",
    "\n",
    "        dot = F.softmax(dot, dim=2)\n",
    "        # - dot now has row-wise self-attention probabilities\n",
    "\n",
    "        # apply the self attention to the values\n",
    "        out = torch.bmm(dot, values).view(b, h, t, e)\n",
    "\n",
    "        # swap h, t back, unify heads\n",
    "        out = out.transpose(1, 2).contiguous().view(b, t, h * e)\n",
    "    \n",
    "        self.unifyheads = nn.Linear(heads * emb, emb)\n",
    "\n",
    "        return self.unifyheads(out)\n",
    "    \n",
    "keys, queries, values = get_inputs()\n",
    "    \n",
    "my_multihead_attention_mechanism(keys, queries, values)\n",
    "\n",
    "# then we apply the train iter object to the compiled neural network"
   ]
  },
  {
   "cell_type": "markdown",
   "metadata": {},
   "source": [
    "Great stuff! Now, let's get that incorporated into the entire script we defined above. Paste your function into the script below."
   ]
  },
  {
   "cell_type": "code",
   "execution_count": 6,
   "metadata": {},
   "outputs": [
    {
     "name": "stdout",
     "output_type": "stream",
     "text": [
      "Writing my_transformer_model.py\n"
     ]
    }
   ],
   "source": [
    "%%writefile my_transformer_model.py\n",
    "\n",
    "# << paste your function here >> "
   ]
  },
  {
   "cell_type": "markdown",
   "metadata": {},
   "source": [
    "Now, let's test that out on SageMaker! "
   ]
  },
  {
   "cell_type": "code",
   "execution_count": 8,
   "metadata": {},
   "outputs": [],
   "source": [
    "# run your new transformer script on SageMaker"
   ]
  },
  {
   "cell_type": "markdown",
   "metadata": {},
   "source": [
    "---\n",
    "# Task 2 - Compare against solution set\n",
    "If you made it here with tons of time to spare, congrats! We will release the solution notebook 70 minutes into the lab, so that you definitely have a shot at implementing the attention mechanism yourself.\n",
    "\n",
    "This last task is optional - just so you can compare your solutions against ours and make sure we're all on the right track.\n",
    "\n",
    "Task 2 should take ~ 20 minutes."
   ]
  },
  {
   "cell_type": "code",
   "execution_count": null,
   "metadata": {},
   "outputs": [],
   "source": []
  },
  {
   "cell_type": "code",
   "execution_count": 66,
   "metadata": {
    "collapsed": true,
    "jupyter": {
     "outputs_hidden": true
    }
   },
   "outputs": [
    {
     "name": "stdout",
     "output_type": "stream",
     "text": [
      "upload: transformers-from-scratch/.ipynb_checkpoints/Transformers From Scratch-checkpoint.ipynb to s3://notebook-etc/transformers-from-scratch/.ipynb_checkpoints/Transformers From Scratch-checkpoint.ipynb\n",
      "upload: transformers-from-scratch/Transformers From Scratch.ipynb to s3://notebook-etc/transformers-from-scratch/Transformers From Scratch.ipynb\n",
      "upload: transformers-from-scratch/former/.git/HEAD to s3://notebook-etc/transformers-from-scratch/former/.git/HEAD\n",
      "upload: transformers-from-scratch/former/.git/config to s3://notebook-etc/transformers-from-scratch/former/.git/config\n",
      "upload: transformers-from-scratch/former/.git/description to s3://notebook-etc/transformers-from-scratch/former/.git/description\n",
      "upload: transformers-from-scratch/former/.git/hooks/applypatch-msg.sample to s3://notebook-etc/transformers-from-scratch/former/.git/hooks/applypatch-msg.sample\n",
      "upload: transformers-from-scratch/former/.git/hooks/post-update.sample to s3://notebook-etc/transformers-from-scratch/former/.git/hooks/post-update.sample\n",
      "upload: transformers-from-scratch/former/.git/hooks/pre-applypatch.sample to s3://notebook-etc/transformers-from-scratch/former/.git/hooks/pre-applypatch.sample\n",
      "upload: transformers-from-scratch/former/.git/hooks/commit-msg.sample to s3://notebook-etc/transformers-from-scratch/former/.git/hooks/commit-msg.sample\n",
      "upload: transformers-from-scratch/former/.git/hooks/fsmonitor-watchman.sample to s3://notebook-etc/transformers-from-scratch/former/.git/hooks/fsmonitor-watchman.sample\n",
      "upload: transformers-from-scratch/former/.git/logs/HEAD to s3://notebook-etc/transformers-from-scratch/former/.git/logs/HEAD\n",
      "upload: transformers-from-scratch/former/.git/hooks/update.sample to s3://notebook-etc/transformers-from-scratch/former/.git/hooks/update.sample\n",
      "upload: transformers-from-scratch/former/.git/hooks/pre-commit.sample to s3://notebook-etc/transformers-from-scratch/former/.git/hooks/pre-commit.sample\n",
      "upload: transformers-from-scratch/former/.git/index to s3://notebook-etc/transformers-from-scratch/former/.git/index\n",
      "upload: transformers-from-scratch/former/.git/logs/refs/heads/master to s3://notebook-etc/transformers-from-scratch/former/.git/logs/refs/heads/master\n",
      "upload: transformers-from-scratch/former/.git/logs/refs/remotes/origin/HEAD to s3://notebook-etc/transformers-from-scratch/former/.git/logs/refs/remotes/origin/HEAD\n",
      "upload: transformers-from-scratch/former/.git/objects/pack/pack-7be9d5304b1aaf4732cb90fdb2b47d26e45b1265.idx to s3://notebook-etc/transformers-from-scratch/former/.git/objects/pack/pack-7be9d5304b1aaf4732cb90fdb2b47d26e45b1265.idx\n",
      "upload: transformers-from-scratch/former/.git/hooks/prepare-commit-msg.sample to s3://notebook-etc/transformers-from-scratch/former/.git/hooks/prepare-commit-msg.sample\n",
      "upload: transformers-from-scratch/former/.git/hooks/pre-rebase.sample to s3://notebook-etc/transformers-from-scratch/former/.git/hooks/pre-rebase.sample\n",
      "upload: transformers-from-scratch/former/.git/hooks/pre-receive.sample to s3://notebook-etc/transformers-from-scratch/former/.git/hooks/pre-receive.sample\n",
      "upload: transformers-from-scratch/former/.git/hooks/pre-push.sample to s3://notebook-etc/transformers-from-scratch/former/.git/hooks/pre-push.sample\n",
      "upload: transformers-from-scratch/former/.git/info/exclude to s3://notebook-etc/transformers-from-scratch/former/.git/info/exclude\n",
      "upload: transformers-from-scratch/former/.git/packed-refs to s3://notebook-etc/transformers-from-scratch/former/.git/packed-refs\n",
      "upload: transformers-from-scratch/former/.git/refs/heads/master to s3://notebook-etc/transformers-from-scratch/former/.git/refs/heads/master\n",
      "upload: transformers-from-scratch/former/.git/refs/remotes/origin/HEAD to s3://notebook-etc/transformers-from-scratch/former/.git/refs/remotes/origin/HEAD\n",
      "upload: transformers-from-scratch/former/LICENSE to s3://notebook-etc/transformers-from-scratch/former/LICENSE\n",
      "upload: transformers-from-scratch/former/README.md to s3://notebook-etc/transformers-from-scratch/former/README.md\n",
      "upload: transformers-from-scratch/former/data/README.md to s3://notebook-etc/transformers-from-scratch/former/data/README.md\n",
      "upload: transformers-from-scratch/former/environment.yml to s3://notebook-etc/transformers-from-scratch/former/environment.yml\n",
      "upload: transformers-from-scratch/former/experiments/classify.py to s3://notebook-etc/transformers-from-scratch/former/experiments/classify.py\n",
      "upload: transformers-from-scratch/former/experiments/_context.py to s3://notebook-etc/transformers-from-scratch/former/experiments/_context.py\n",
      "upload: transformers-from-scratch/former/experiments/generate.py to s3://notebook-etc/transformers-from-scratch/former/experiments/generate.py\n",
      "upload: transformers-from-scratch/former/former/__init__.py to s3://notebook-etc/transformers-from-scratch/former/former/__init__.py\n",
      "upload: transformers-from-scratch/former/former/util/__init__.py to s3://notebook-etc/transformers-from-scratch/former/former/util/__init__.py\n",
      "upload: transformers-from-scratch/former/model.py to s3://notebook-etc/transformers-from-scratch/former/model.py\n",
      "upload: transformers-from-scratch/former/former/modules.py to s3://notebook-etc/transformers-from-scratch/former/former/modules.py\n",
      "upload: transformers-from-scratch/former/former/transformers.py to s3://notebook-etc/transformers-from-scratch/former/former/transformers.py\n",
      "upload: transformers-from-scratch/former/requirements.txt to s3://notebook-etc/transformers-from-scratch/former/requirements.txt\n",
      "upload: transformers-from-scratch/former/.git/objects/pack/pack-7be9d5304b1aaf4732cb90fdb2b47d26e45b1265.pack to s3://notebook-etc/transformers-from-scratch/former/.git/objects/pack/pack-7be9d5304b1aaf4732cb90fdb2b47d26e45b1265.pack\n",
      "upload: transformers-from-scratch/former/tests/_context.py to s3://notebook-etc/transformers-from-scratch/former/tests/_context.py\n",
      "upload: transformers-from-scratch/former/setup.py to s3://notebook-etc/transformers-from-scratch/former/setup.py\n",
      "upload: transformers-from-scratch/holder_file.csv to s3://notebook-etc/transformers-from-scratch/holder_file.csv\n",
      "upload: transformers-from-scratch/former/former/util/util.py to s3://notebook-etc/transformers-from-scratch/former/former/util/util.py\n",
      "upload: transformers-from-scratch/former/data/enwik8.gz to s3://notebook-etc/transformers-from-scratch/former/data/enwik8.gz\n"
     ]
    }
   ],
   "source": [
    "!cd ../ && aws s3 sync transformers-from-scratch s3://notebook-etc/transformers-from-scratch/"
   ]
  },
  {
   "cell_type": "code",
   "execution_count": null,
   "metadata": {},
   "outputs": [],
   "source": []
  }
 ],
 "metadata": {
  "instance_type": "ml.m5.large",
  "kernelspec": {
   "display_name": "Python 3 (Data Science)",
   "language": "python",
   "name": "python3__SAGEMAKER_INTERNAL__arn:aws:sagemaker:us-east-2:429704687514:image/datascience-1.0"
  },
  "language_info": {
   "codemirror_mode": {
    "name": "ipython",
    "version": 3
   },
   "file_extension": ".py",
   "mimetype": "text/x-python",
   "name": "python",
   "nbconvert_exporter": "python",
   "pygments_lexer": "ipython3",
   "version": "3.7.6"
  }
 },
 "nbformat": 4,
 "nbformat_minor": 4
}
