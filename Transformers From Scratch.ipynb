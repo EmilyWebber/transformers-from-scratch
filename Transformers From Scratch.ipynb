{
 "cells": [
  {
   "cell_type": "markdown",
   "metadata": {},
   "source": [
    "# Transformers From Scratch\n",
    "You've heard the name, you've seen the papers, you've probably even stepped through a few repos. But can you build a multi-head attention mechanism from scratch?\n",
    "\n",
    "In this lab you'll be asked to implement the novel multi-head attention function from scratch, and plug this into our provided framework to test that your function works.\n",
    "\n",
    "We'll also ask you to parralellize it to take advantage of all the cores in your machine. \n",
    "\n",
    "So hang in there, and let's get to it!"
   ]
  },
  {
   "cell_type": "markdown",
   "metadata": {},
   "source": [
    "---\n",
    "# Task 0 - Learn About This Script Pacakge\n",
    "First, let's examine the codebase here. You'll see a Transformer-based model architecture, so to speak, implemented here. The catch? There is no multi-head attention function. \n",
    "\n",
    "We'll step through the codebase with you here in the guide so you know the key points. At the end we'll run a quick functional test to make sure you can indeed run a basic training job.\n",
    "\n",
    "Task 0 should take ~ 10 minutes. Try to take your time reading through this so you know what the arguments are and how the script is constructed."
   ]
  },
  {
   "cell_type": "code",
   "execution_count": 23,
   "metadata": {},
   "outputs": [],
   "source": [
    "# this package is a fork of Peter Bloem's \"former\" repository, where he implements a Transformer from scratch in PyTorch.\n",
    "!git clone https://github.com/EmilyWebber/former.git"
   ]
  },
  {
   "cell_type": "markdown",
   "metadata": {},
   "source": [
    "First, this codebase supports two modes. One for text classification, the other for text generation. Both of those can be run by a single Python script, `python experiments/classify.py`. You'll see that we are just calling that Python script inside of the `model.py` script that SageMaker uses to execute the training job.\n",
    "\n",
    "Inside of `classify.py`, you'll see we're creating a model on line 60. `model = former.CTransformer`. Note that this model takes a few hyperparameters - `embedding_size`, `num_heads`, `depth`, `seq_length`, `num_classes`, and `max_pool`. "
   ]
  },
  {
   "cell_type": "markdown",
   "metadata": {},
   "source": [
    "![](images/model_create.png)"
   ]
  },
  {
   "cell_type": "markdown",
   "metadata": {},
   "source": [
    "Now let's check out that `CTransformer()` object. You'll see it's inherited from the `former` class. \n",
    "\n",
    "Inside `transformers.py`, there's an `__init__` for the `CTransformer()` object. Inside the init, we'll see a small for-loop defined that pulls in the hyperparameters we just passed in, and creates a `TransformerBlock`. Then, it's using the PyTorch `nn.Sequential` API to convert those blocks into a sequential neural network component."
   ]
  },
  {
   "cell_type": "markdown",
   "metadata": {},
   "source": [
    "![](images/TransformerBlock.png)"
   ]
  },
  {
   "cell_type": "markdown",
   "metadata": {},
   "source": [
    "Now, where is this `TransformerBlock` defined? It's actually in `modules.py`.  You'll see one `TransformerBlock` class, that inherits a `SelfAttentionWide` or `SelfAttentionNarrow` object on creation. We'll follow the rabbit-hole on the `SelfAttentionNarrow.`\n",
    "\n",
    "The `SelfAttentionWide` init defines a few objects: `self.tokeys`, `self.toqueries`, and `self.tovalues`."
   ]
  },
  {
   "cell_type": "markdown",
   "metadata": {},
   "source": [
    "![](images/tokeys.png)"
   ]
  },
  {
   "cell_type": "markdown",
   "metadata": {},
   "source": [
    "Then, we see a `forward` function that calls `self.tokeys`. Next, it computes a scaled dot-product self-attention function! That's what we need to implement. "
   ]
  },
  {
   "cell_type": "markdown",
   "metadata": {},
   "source": [
    "![](images/self-attention.png)"
   ]
  },
  {
   "cell_type": "markdown",
   "metadata": {},
   "source": [
    "Sound like fun? Now, run your base training job to make sure the pipes are working today. This should download the data onto the training host, but it won't actually train because we haven't implemented your solution yet."
   ]
  },
  {
   "cell_type": "code",
   "execution_count": 7,
   "metadata": {},
   "outputs": [],
   "source": [
    "# !pip install --upgrade sagemaker"
   ]
  },
  {
   "cell_type": "code",
   "execution_count": 6,
   "metadata": {},
   "outputs": [
    {
     "name": "stderr",
     "output_type": "stream",
     "text": [
      "'create_image_uri' will be deprecated in favor of 'ImageURIProvider' class in SageMaker Python SDK v2.\n",
      "'s3_input' class will be renamed to 'TrainingInput' in SageMaker Python SDK v2.\n",
      "'create_image_uri' will be deprecated in favor of 'ImageURIProvider' class in SageMaker Python SDK v2.\n"
     ]
    }
   ],
   "source": [
    "# run the model file\n",
    "import sagemaker\n",
    "import os\n",
    "\n",
    "sagemaker_session = sagemaker.Session()\n",
    "bucket = sagemaker_session.default_bucket()\n",
    "\n",
    "prefix = 'transformers'\n",
    "\n",
    "role = sagemaker.get_execution_role()\n",
    "\n",
    "# create some arbitrary train file that we won't use\n",
    "!echo 1,2,3,4 > holder_file.csv \n",
    "s3_train_path = \"s3://{}/{}/train/{}\".format(bucket, prefix, 'holder_file.csv')\n",
    "os.system('aws s3 cp {} {}'.format( 'holder_file.csv', s3_train_path))\n",
    "\n",
    "from sagemaker.pytorch import PyTorch\n",
    "\n",
    "estimator = PyTorch(entry_point='model.py',\n",
    "                    role=role,\n",
    "                    framework_version='1.2.0',\n",
    "                    py_version = 'py3',\n",
    "                    source_dir = 'former',\n",
    "                    train_instance_count=1,\n",
    "                    train_instance_type = 'ml.p3.2xlarge')\n",
    "\n",
    "estimator.fit({'training': s3_train_path}, wait=False)"
   ]
  },
  {
   "cell_type": "markdown",
   "metadata": {},
   "source": [
    "---\n",
    "# Task 1 - Implement a Multi-head Attention Function\n",
    "Now, here's the fun part. Can you implement your own multi-head attention mechanism? Don't worry, we'll give you all the tips you need.\n",
    "\n",
    "Task 1 should take ~30 minutes."
   ]
  },
  {
   "cell_type": "code",
   "execution_count": 14,
   "metadata": {
    "jupyter": {
     "outputs_hidden": true
    }
   },
   "outputs": [],
   "source": [
    "!pip install -r former/requirements.txt"
   ]
  },
  {
   "cell_type": "code",
   "execution_count": 29,
   "metadata": {},
   "outputs": [],
   "source": [
    "from torch import nn\n",
    "import torch\n",
    "from torch import nn\n",
    "from torch.autograd import Variable\n",
    "import torch.nn.functional as F\n",
    "import math\n",
    "from torchtext import data, datasets, vocab\n",
    "\n",
    "import numpy as np\n",
    "\n",
    "from torch.utils.tensorboard import SummaryWriter\n",
    "\n",
    "# Used for converting between nats and bits\n",
    "LOG2E = math.log2(math.e)\n",
    "TEXT = data.Field(lower=True, include_lengths=True, batch_first=True)\n",
    "LABEL = data.Field(sequential=False)\n",
    "NUM_CLS = 2\n",
    "\n",
    "def d(tensor=None):\n",
    "    if tensor is None:\n",
    "        return 'cuda' if torch.cuda.is_available() else 'cpu'\n",
    "    return 'cuda' if tensor.is_cuda else 'cpu'\n",
    "\n",
    "def get_x():\n",
    "    \n",
    "    tdata, _ = datasets.IMDB.splits(TEXT, LABEL)\n",
    "\n",
    "    print ('calling imbdb.splits')\n",
    "\n",
    "    train, test = tdata.split(split_ratio=0.8)\n",
    "\n",
    "    print ('loading train and test sets')\n",
    "    TEXT.build_vocab(train, max_size=50_000 - 2) # - 2 to make space for <unk> and <pad>\n",
    "    LABEL.build_vocab(train)\n",
    "\n",
    "    train_iter, test_iter = data.BucketIterator.splits((train, test), batch_size=4, device=d())\n",
    "\n",
    "    return train_iter, test_iter\n",
    "\n",
    "# it will take a few minutes to run this cell, even on an m5.large\n",
    "# go ahead and run this cell. while you're waiting for it to complete, jump ahead to the next portion\n",
    "tbw = SummaryWriter(log_dir='./runs') # Tensorboard logging\n",
    "train_iter, _ = get_x()"
   ]
  },
  {
   "cell_type": "markdown",
   "metadata": {},
   "source": [
    "As you're stepping through the code below to build your neural network, don't panic. You can actually look at the pictures provided in this notebook here, along with the code from the `former` repo, for inspiration. "
   ]
  },
  {
   "cell_type": "code",
   "execution_count": 13,
   "metadata": {},
   "outputs": [],
   "source": [
    "# # this is where you define your first three layers, for the keys, queries, and values\n",
    "# def get_inputs(emb = 512, heads=8):\n",
    "    \n",
    "#     tokeys = # your code here \n",
    "#     toqueries = # your code here \n",
    "#     tovalues = # your code here \n",
    "    \n",
    "#     keys    = # your code here \n",
    "#     queries = # your code here \n",
    "#     values  = # your code here \n",
    "    \n",
    "#     return keys, queries, values\n",
    "\n",
    "# def my_multihead_attention_mechanism(keys, queries, values):\n",
    "#         # compute scaled dot-product self-attention\n",
    "\n",
    "#         # - fold heads into the batch dimension\n",
    "#         keys = # your code here \n",
    "#         queries = # your code here \n",
    "#         values = # your code here \n",
    "\n",
    "#         # - Instead of dividing the dot products by sqrt(e), we scale the keys and values.\n",
    "#         #   This should be more memory efficient\n",
    "        \n",
    "#         queries = # your code here \n",
    "#         keys    = # your code here \n",
    "\n",
    "#         # - get dot product of queries and keys, and scale\n",
    "#         dot = # your code here \n",
    "\n",
    "#         assert dot.size() == (b*h, t, t)\n",
    "\n",
    "#         if self.mask: # mask out the upper half of the dot matrix, excluding the diagonal\n",
    "#             mask_(dot, maskval=float('-inf'), mask_diagonal=False)\n",
    "\n",
    "#         dot = F.softmax(dot, dim=2)\n",
    "#         # - dot now has row-wise self-attention probabilities\n",
    "\n",
    "#         # apply the self attention to the values\n",
    "#         out = # your code here \n",
    "\n",
    "#         # swap h, t back, unify heads\n",
    "#         out = # your code here \n",
    "    \n",
    "#         self.unifyheads = # your code here \n",
    "\n",
    "#         return self.unifyheads(out)\n",
    "    \n",
    "# keys, queries, values = get_inputs()\n",
    "    \n",
    "# my_multihead_attention_mechanism(keys, queries, values)\n",
    "\n",
    "# # then we apply the train iter object to the compiled neural network"
   ]
  },
  {
   "cell_type": "code",
   "execution_count": 54,
   "metadata": {},
   "outputs": [],
   "source": []
  },
  {
   "cell_type": "code",
   "execution_count": 70,
   "metadata": {},
   "outputs": [
    {
     "name": "stdout",
     "output_type": "stream",
     "text": [
      "Overwriting former/experiments/my_transformer_model.py\n"
     ]
    }
   ],
   "source": [
    "%%writefile former/experiments/my_transformer_model.py\n",
    "from _context import former\n",
    "import tqdm\n",
    "\n",
    "from torch import nn\n",
    "import torch\n",
    "from torch.autograd import Variable\n",
    "import torch.nn.functional as F\n",
    "import math\n",
    "from torchtext import data, datasets, vocab\n",
    "\n",
    "import numpy as np\n",
    "\n",
    "from torch.utils.tensorboard import SummaryWriter\n",
    "\n",
    "# Used for converting between nats and bits\n",
    "LOG2E = math.log2(math.e)\n",
    "TEXT = data.Field(lower=True, include_lengths=True, batch_first=True)\n",
    "LABEL = data.Field(sequential=False)\n",
    "NUM_CLS = 2\n",
    "\n",
    "def d(tensor=None):\n",
    "    if tensor is None:\n",
    "        return 'cuda' if torch.cuda.is_available() else 'cpu'\n",
    "    return 'cuda' if tensor.is_cuda else 'cpu'\n",
    "\n",
    "def get_x():\n",
    "    \n",
    "    tdata, _ = datasets.IMDB.splits(TEXT, LABEL)\n",
    "\n",
    "    print ('calling imbdb.splits')\n",
    "\n",
    "    train, test = tdata.split(split_ratio=0.8)\n",
    "\n",
    "    print ('loading train and test sets')\n",
    "    TEXT.build_vocab(train, max_size=50_000 - 2) # - 2 to make space for <unk> and <pad>\n",
    "    LABEL.build_vocab(train)\n",
    "\n",
    "    train_iter, test_iter = data.BucketIterator.splits((train, test), batch_size=4, device=d())\n",
    "\n",
    "    return train_iter, test_iter\n",
    "\n",
    "def my_multihead_attention_mechanism(x, emb = 128, h = 8):\n",
    "    \n",
    "    b, t, e = x.size()\n",
    "    assert e == emb, f'Input embedding dim ({e}) should match layer embedding dim ({self.emb})'\n",
    "\n",
    "    s = e // h\n",
    "    x = x.view(b, t, h, s)\n",
    "\n",
    "    tokeys = nn.Linear(s, s, bias=False)\n",
    "    toqueries = nn.Linear(s, s, bias=False)\n",
    "    tovalues  = nn.Linear(s, s, bias=False)\n",
    "    \n",
    "    assert keys.size() == (b, t, h, s)\n",
    "    assert queries.size() == (b, t, h, s)\n",
    "    assert values.size() == (b, t, h, s)\n",
    "    \n",
    "    # compute scaled dot-product self-attention\n",
    "\n",
    "    # - fold heads into the batch dimension\n",
    "    keys = keys.transpose(1, 2).contiguous().view(b * h, t, e)\n",
    "    queries = queries.transpose(1, 2).contiguous().view(b * h, t, e)\n",
    "    values = values.transpose(1, 2).contiguous().view(b * h, t, e)\n",
    "\n",
    "    queries = queries / (e ** (1/4))\n",
    "    keys    = keys / (e ** (1/4))\n",
    "    # - Instead of dividing the dot products by sqrt(e), we scale the keys and values.\n",
    "    #   This should be more memory efficient\n",
    "\n",
    "    # - get dot product of queries and keys, and scale\n",
    "    dot = torch.bmm(queries, keys.transpose(1, 2))\n",
    "\n",
    "    assert dot.size() == (b*h, t, t)\n",
    "\n",
    "    if self.mask: # mask out the upper half of the dot matrix, excluding the diagonal\n",
    "        mask_(dot, maskval=float('-inf'), mask_diagonal=False)\n",
    "\n",
    "    dot = F.softmax(dot, dim=2)\n",
    "    # - dot now has row-wise self-attention probabilities\n",
    "\n",
    "    # apply the self attention to the values\n",
    "    out = torch.bmm(dot, values).view(b, h, t, e)\n",
    "\n",
    "    # swap h, t back, unify heads\n",
    "    out = out.transpose(1, 2).contiguous().view(b, t, h * e)\n",
    "\n",
    "    unifyheads = nn.Linear(heads * emb, emb)\n",
    "\n",
    "    return unifyheads(out)\n",
    "\n",
    "\n",
    "if __name__ == \"__main__\":\n",
    "\n",
    "    tbw = SummaryWriter(log_dir='./runs') # Tensorboard logging\n",
    "    train_iter, _ = get_x()\n",
    "\n",
    "    # define a micro minibatch experience here.\n",
    "    print(f'- nr. of training examples {len(train_iter)}')\n",
    "    mx = 512\n",
    "    model = former.CTransformer(emb=128, heads=8, depth=6, seq_length=mx, num_tokens=50_000, num_classes=2, max_pool=True)\n",
    "\n",
    "    if torch.cuda.is_available():\n",
    "        model.cuda()\n",
    "\n",
    "    opt = torch.optim.Adam(lr=0.0001, params=model.parameters())\n",
    "    sch = torch.optim.lr_scheduler.LambdaLR(opt, lambda i: min(i / (10_000 / 4), 1.0))\n",
    "\n",
    "    gradient_clipping = 1\n",
    "\n",
    "    # training loop\n",
    "    seen = 0\n",
    "    num_epochs = 2\n",
    "    for e in range(num_epochs):\n",
    "\n",
    "        print ('epoch {}'.format(e))\n",
    "\n",
    "        model.train(True)\n",
    "\n",
    "        for batch in tqdm.tqdm(train_iter):\n",
    "\n",
    "            opt.zero_grad()\n",
    "\n",
    "            input = batch.text[0]\n",
    "            label = batch.label - 1\n",
    "\n",
    "            if input.size(1) > mx:\n",
    "                input = input[:, :mx]\n",
    "            out = model(input)\n",
    "            loss = F.nll_loss(out, label)\n",
    "\n",
    "            loss.backward()\n",
    "\n",
    "            # clip gradients\n",
    "            # - If the total gradient vector has a length > 1, we clip it back down to 1.\n",
    "\n",
    "            if gradient_clipping > 0.0:\n",
    "                nn.utils.clip_grad_norm_(model.parameters(),gradient_clipping)\n",
    "\n",
    "            opt.step()\n",
    "            sch.step()\n",
    "\n",
    "            seen += input.size(0)\n",
    "            tbw.add_scalar('classification/train-loss', float(loss.item()), seen)\n",
    "\n",
    "        with torch.no_grad():\n",
    "\n",
    "            model.train(False)\n",
    "            tot, cor= 0.0, 0.0\n",
    "\n",
    "            for batch in test_iter:\n",
    "\n",
    "                input = batch.text[0]\n",
    "                label = batch.label - 1\n",
    "\n",
    "                if input.size(1) > mx:\n",
    "                    input = input[:, :mx]\n",
    "                out = model(input).argmax(dim=1)\n",
    "\n",
    "                tot += float(input.size(0))\n",
    "                cor += float((label == out).sum().item())\n",
    "\n",
    "            acc = cor / tot\n",
    "            print(f'-- {\"validation\"} accuracy {acc:.3}')\n",
    "            tbw.add_scalar('classification/test-loss', float(loss.item()), e)\n"
   ]
  },
  {
   "cell_type": "markdown",
   "metadata": {},
   "source": [
    "It turns out this package is just happier being run as a script - let's test it out here."
   ]
  },
  {
   "cell_type": "code",
   "execution_count": 71,
   "metadata": {},
   "outputs": [
    {
     "name": "stdout",
     "output_type": "stream",
     "text": [
      "calling imbdb.splits\n",
      "loading train and test sets\n",
      "- nr. of training examples 5000\n",
      "epoch 0\n",
      " 17%|██████▉                                 | 862/5000 [00:27<02:27, 27.98it/s]^C\n",
      "Traceback (most recent call last):\n",
      "  File \"former/experiments/my_transformer_model.py\", line 133, in <module>\n",
      "    loss.backward()\n",
      "  File \"/home/ec2-user/anaconda3/envs/python3/lib/python3.6/site-packages/torch/tensor.py\", line 118, in backward\n",
      "    torch.autograd.backward(self, gradient, retain_graph, create_graph)\n",
      "  File \"/home/ec2-user/anaconda3/envs/python3/lib/python3.6/site-packages/torch/autograd/__init__.py\", line 93, in backward\n",
      "    allow_unreachable=True)  # allow_unreachable flag\n",
      "KeyboardInterrupt\n",
      " 17%|██████▉                                 | 862/5000 [00:27<02:12, 31.11it/s]\n"
     ]
    }
   ],
   "source": [
    "!python former/experiments/my_transformer_model.py"
   ]
  },
  {
   "cell_type": "markdown",
   "metadata": {},
   "source": [
    "Now, let's test that out on SageMaker! "
   ]
  },
  {
   "cell_type": "code",
   "execution_count": 74,
   "metadata": {},
   "outputs": [
    {
     "name": "stdout",
     "output_type": "stream",
     "text": [
      "Writing former/my_new_model.py\n"
     ]
    }
   ],
   "source": [
    "%%writefile former/my_new_model.py\n",
    "\n",
    "import os\n",
    "\n",
    "if __name__ == '__main__':\n",
    "    os.system('python experiments/my_transfomer_model.py')"
   ]
  },
  {
   "cell_type": "code",
   "execution_count": null,
   "metadata": {},
   "outputs": [
    {
     "name": "stderr",
     "output_type": "stream",
     "text": [
      "WARNING:sagemaker:'create_image_uri' will be deprecated in favor of 'ImageURIProvider' class in SageMaker Python SDK v2.\n"
     ]
    }
   ],
   "source": [
    "# run the model file\n",
    "import sagemaker\n",
    "import os\n",
    "\n",
    "sagemaker_session = sagemaker.Session()\n",
    "\n",
    "from sagemaker.pytorch import PyTorch\n",
    "\n",
    "estimator = PyTorch(entry_point='my_new_model.py',\n",
    "                    role=role,\n",
    "                    framework_version='1.2.0',\n",
    "                    py_version = 'py3',\n",
    "                    source_dir = 'former',\n",
    "                    train_instance_count=1,\n",
    "                    train_instance_type = 'ml.p3.2xlarge')\n",
    "\n",
    "estimator.fit({'training': s3_train_path}, wait=False)"
   ]
  },
  {
   "cell_type": "markdown",
   "metadata": {},
   "source": [
    "And that's a wrap! If you made it here with extra time to spare, consider doubling back on some of those functions and try to really understand what's going on there. "
   ]
  },
  {
   "cell_type": "code",
   "execution_count": null,
   "metadata": {},
   "outputs": [],
   "source": []
  }
 ],
 "metadata": {
  "instance_type": "ml.m5.large",
  "kernelspec": {
   "display_name": "conda_python3",
   "language": "python",
   "name": "conda_python3"
  },
  "language_info": {
   "codemirror_mode": {
    "name": "ipython",
    "version": 3
   },
   "file_extension": ".py",
   "mimetype": "text/x-python",
   "name": "python",
   "nbconvert_exporter": "python",
   "pygments_lexer": "ipython3",
   "version": "3.6.10"
  }
 },
 "nbformat": 4,
 "nbformat_minor": 4
}
